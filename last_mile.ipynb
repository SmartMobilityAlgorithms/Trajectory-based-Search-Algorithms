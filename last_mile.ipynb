{
 "cells": [
  {
   "cell_type": "markdown",
   "metadata": {},
   "source": [
    "# Last Mile Delivery"
   ]
  },
  {
   "cell_type": "markdown",
   "metadata": {},
   "source": [
    "This is very famous and recurring problem in logistics and supply chain management. The problem is about how you can find the optimal schedule for delivering goods from transportation hub to delivery destination. The optimality criteria of this problem and its objectives are very diverse and contradicting like we want to look at the cost of the delivery routes and the time window of the delivery to many destinations and don't forget the dynamic nature of navigation and routing problems and what if the vehicle needs to go back .\n",
    "\n",
    "This is problem is pretty much like traveling salesman problem in the sense that you need to visit all delivery destination only once in the most optimal way based on your objectives. There is only one relaxed condition in TSP formulation which is that you can visit the transportation hub multiple times because you probably can't serve all delivery destinations demands with loading the vehicle one time, so you need to go back to the transportation hub multiple times between deliveries to load more goods.\n",
    "\n",
    "---\n",
    "\n",
    "If the description above is a little confusing, we will formulate the problem step by step explaining the constraints and objectives of the problem and how you can make it more sophisticated and realistice. We also made some utilities in `utilities/src/poi.py` that would help you in this and future case studies and it is first time introduced in the course, so please bear with us."
   ]
  },
  {
   "cell_type": "code",
   "execution_count": 11,
   "metadata": {},
   "outputs": [],
   "source": [
    "from utilities import *\n",
    "import networkx as nx\n",
    "from tqdm import tqdm\n",
    "from random import shuffle, randint"
   ]
  },
  {
   "cell_type": "markdown",
   "metadata": {},
   "source": [
    "### Problem definition\n",
    "\n",
    "Imagine that we have medical supplies that we want to deliver to some hospitals in Toronto so these are the delivery destinations and the transportation hub would be the King subway station. We want to find the best schedule for our delivering vehicle to follow.\n",
    "\n",
    "Our deliveing vehicle should visit hospitals only once so we can't deliver hospital's demand of medical supplies in multiple deliveries, so we could go to our transportation hub to get more supplies to distribute to hospitals because the vehicle can't carry unlimited quantities of medical supplies."
   ]
  },
  {
   "cell_type": "markdown",
   "metadata": {},
   "source": [
    "---\n",
    "\n",
    "We will get the data of POIs (point of interest) using `poi` class which takes the name of the place (as saved in OSM databases) and the country of the place to limit the search space and that object will contains the coordinates of that POI and its full address and its OSM id.\n",
    "\n",
    "We are using [Nominatim](https://nominatim.org/) to do the geodecoding and getting the coordinates of POIs."
   ]
  },
  {
   "cell_type": "code",
   "execution_count": 12,
   "metadata": {},
   "outputs": [],
   "source": [
    "sickChildren = poi(\"Hospital for Sick Children\", \"canada\")\n",
    "princessMargaret = poi(\"princess margaret hospital\", \"canada\")\n",
    "addictionCenter = poi(\"center for addiction and mental health\", \"canada\")\n",
    "torontoWestern = poi(\"toronto western hospital\", \"canada\")\n",
    "hillcrest = poi(\"hillcrest reactivation center\", \"canada\")\n",
    "runnymede = poi(\"Runnymede Healthcare Centre\", \"canada\")\n",
    "salvationArmy = poi(\"Salvation Army Toronto Grace Health Centre\", \"canada\")\n",
    "michaelGarron = poi(\"Michael Garron Hospital\", \"canada\")\n",
    "hollandBloorview = poi(\"Holland Bloorview Kids Rehabilitation Hospital\", \"canada\")\n",
    "northYork = poi(\"North York General Hospital\", \"canada\")\n",
    "scarborough = poi(\"Scarborough Health Network - Birchmount\", \"canada\")\n",
    "\n",
    "\n",
    "kingStation = poi(\"King Station\", \"canada\")\n",
    "\n",
    "POIS = [ \n",
    "        # hospitals around UofT -- delivery destination\n",
    "         sickChildren,\n",
    "         princessMargaret,\n",
    "         addictionCenter,\n",
    "         torontoWestern,\n",
    "         hillcrest,\n",
    "         runnymede,\n",
    "         salvationArmy,\n",
    "         michaelGarron,\n",
    "         hollandBloorview,\n",
    "         northYork,\n",
    "         scarborough,\n",
    "       \n",
    "        # king station -- transportation hub\n",
    "        kingStation\n",
    "]"
   ]
  },
  {
   "cell_type": "markdown",
   "metadata": {},
   "source": [
    "Let's explore `poi` object"
   ]
  },
  {
   "cell_type": "code",
   "execution_count": 14,
   "metadata": {
    "scrolled": true
   },
   "outputs": [
    {
     "name": "stdout",
     "output_type": "stream",
     "text": [
      "Hospital for Sick Children, 555, University Avenue, University—Rosedale, Old Toronto, Toronto, Peel, Golden Horseshoe, Ontario, M5G 1X3, Canada\n",
      "(-79.38760057839349, 43.657371749999996)\n",
      "Name: Hospital for Sick Children ID: 712078929\n"
     ]
    }
   ],
   "source": [
    "print(sickChildren.address)\n",
    "print(sickChildren.coordinates)\n",
    "# if you print the object as it is, it will print the name of the place and its osmid\n",
    "print(sickChildren)"
   ]
  },
  {
   "cell_type": "markdown",
   "metadata": {},
   "source": [
    "Drawing the POIs on the map for which we only need their coordinates and thanks to nominatim we get them."
   ]
  },
  {
   "cell_type": "code",
   "execution_count": 15,
   "metadata": {
    "scrolled": false
   },
   "outputs": [
    {
     "data": {
      "application/vnd.jupyter.widget-view+json": {
       "model_id": "cbeea321b94a447096070057b7fab6e9",
       "version_major": 2,
       "version_minor": 0
      },
      "text/plain": [
       "Map(center=[43.689055504166674, -79.38379344383789], close_popup_on_click=False, controls=(ZoomControl(options…"
      ]
     },
     "metadata": {},
     "output_type": "display_data"
    }
   ],
   "source": [
    "# every marker contains a popup with the name of the POI\n",
    "drawPOIS(POIS, zoom=10)"
   ]
  },
  {
   "cell_type": "markdown",
   "metadata": {},
   "source": [
    "We will construct a graph between all of the POIs to save the route data between every pair of nodes."
   ]
  },
  {
   "cell_type": "code",
   "execution_count": 16,
   "metadata": {},
   "outputs": [],
   "source": [
    "G = nx.DiGraph()\n",
    "G.add_nodes_from(POIS)"
   ]
  },
  {
   "cell_type": "markdown",
   "metadata": {},
   "source": [
    "We will be using a method defined for `poi` object that retrieve the route between the object as a source and another object as destination and save it as an edge in the graph.\n",
    "\n",
    "The method `route_to` uses [OSRM](http://project-osrm.org/) as a routing engine, which returns the coordinates of the route between two coordinates and the length of the route and the expected duration for a vehicle (car-bicycle-foot) to travel that route.\n",
    "\n",
    "`OSRM` calculates the duration of a route based on multiple criteria like the max speed of the sub-routes and how many turns in the route and how much traffic lights and other obstacles are in the route.\n",
    "\n",
    "Its calculation is very close to what you would get from google or apple maps, and for how they do that exacly go to [`Project-OSRM/osrm-backend/profiles`](https://github.com/Project-OSRM/osrm-backend/tree/master/profiles) and check how they calculate the traveling time for cars, bicycles, and foot travel."
   ]
  },
  {
   "cell_type": "code",
   "execution_count": 17,
   "metadata": {},
   "outputs": [],
   "source": [
    "# this will take 1-2 minutes because you need to find\n",
    "# two routes between each pair of POIs\n",
    "for source in G.nodes():\n",
    "    for destination in G.nodes():\n",
    "        if source == destination: continue\n",
    "        G.add_edge(source, destination, route = source.route_to(destination))"
   ]
  },
  {
   "cell_type": "markdown",
   "metadata": {},
   "source": [
    "Let's see the route object between the nodes"
   ]
  },
  {
   "cell_type": "code",
   "execution_count": 18,
   "metadata": {},
   "outputs": [
    {
     "data": {
      "text/plain": [
       "{'coords': [(43.657832, -79.387362),\n",
       "  (43.658083, -79.386884),\n",
       "  (43.657583, -79.389346),\n",
       "  (43.656302, -79.389103),\n",
       "  (43.656162, -79.390421),\n",
       "  (43.658381, -79.391397),\n",
       "  (43.658519, -79.390787)],\n",
       " 'length': 850.2,\n",
       " 'duration': 140.8}"
      ]
     },
     "execution_count": 18,
     "metadata": {},
     "output_type": "execute_result"
    }
   ],
   "source": [
    "G[sickChildren][princessMargaret]['route']"
   ]
  },
  {
   "cell_type": "markdown",
   "metadata": {},
   "source": [
    "So each edge in the graph has a route object the connects the two adjacent nodes to that edge, which contains the coordinates of that route and its length and estimated travel time."
   ]
  },
  {
   "cell_type": "markdown",
   "metadata": {},
   "source": [
    "---\n",
    "---\n",
    "\n",
    "### Problem Formulation\n",
    "\n",
    "We will define a list of delivery destinations which consists of an object/dictionary that describes the POI and its demand and some time interval that the delivery should arrive in.\n",
    "\n",
    "We are treating the transportation hub the same as delivery destinations but with a negative demand, so when we visit it the capacity of the vehicle increases and arbitrary big time interval so we don't penalize the vehicle any time it returns back to the transportation hub to get more goods.\n",
    "\n",
    "The following heuristic can solve the problem for arbitrary number of delivery destinations, but with only a single transportation hub. We will talk at the end how to solve the problem with arbitrary number of delivery destionations **and** transportation hubs."
   ]
  },
  {
   "cell_type": "code",
   "execution_count": 19,
   "metadata": {},
   "outputs": [],
   "source": [
    "delivery_destinations = [\n",
    "    {\n",
    "        'POI':sickChildren, \n",
    "        'demand': 50, \n",
    "        'time_interval':(0, 300),\n",
    "    },\n",
    "    {\n",
    "        'POI':princessMargaret, \n",
    "        'demand':60, \n",
    "        'time_interval':(300, 500),\n",
    "    },\n",
    "    {\n",
    "        'POI':addictionCenter, \n",
    "        'demand':40, \n",
    "        'time_interval':(500, 700),\n",
    "    },\n",
    "    {\n",
    "        'POI':torontoWestern, \n",
    "        'demand':85, \n",
    "        'time_interval':(700, 900),\n",
    "    },\n",
    "    {\n",
    "        'POI':hillcrest,\n",
    "        'demand':100, \n",
    "        'time_interval':(900, 1200),\n",
    "    },\n",
    "    {\n",
    "        'POI':runnymede, \n",
    "        'demand':120, \n",
    "        'time_interval':(1200, 1700),\n",
    "    },\n",
    "    {\n",
    "        'POI':salvationArmy, \n",
    "        'demand':200, \n",
    "        'time_interval':(1700, 2100),\n",
    "    },\n",
    "    {\n",
    "        'POI':michaelGarron, \n",
    "        'demand':100, \n",
    "        'time_interval':(2400, 3100),\n",
    "    },\n",
    "    {\n",
    "        'POI':hollandBloorview, \n",
    "        'demand': 90, \n",
    "        'time_interval':(3100, 4000),\n",
    "    },\n",
    "    {\n",
    "        'POI':northYork, \n",
    "        'demand':30, \n",
    "        'time_interval':(4000, 4500),\n",
    "    },\n",
    "    {\n",
    "        'POI':scarborough, \n",
    "        'demand':200, \n",
    "        'time_interval':(4700, 5200),\n",
    "    },\n",
    "]\n",
    "\n",
    "#####################################################\n",
    "\n",
    "transportation_hub = {\n",
    "    'POI': kingStation,\n",
    "    'demand': -200,\n",
    "    'time_interval': (-999999, 999999)\n",
    "}"
   ]
  },
  {
   "cell_type": "markdown",
   "metadata": {},
   "source": [
    "As any NP-hard problem we can only solve the problem by approximation, that usually happens by generating solutions and evaluates these solutions by some criteria and hopefully choose the best one.\n",
    "\n",
    "Our solution would be a certain permutation for the list of delivery destinations with the oocusional occurence of the vehicle returning back to the transportation hub to load some goods, so at the end would be a list of POIs that starts and ends with the transportation hub and in the middle of the list we would have permutation of the delivery destinations and some occusional visits to the transportation hub.\n",
    "\n",
    "---\n",
    "\n",
    "### the heuristic function\n",
    "\n",
    "The heuristic function takes a permutation for the delivery destinations and add the appropriate number of times that the vehicle needs to return to the transportation hub to get more goods, while that it computes the cost of that tour by penalizing when the goods delivered are not withing the time interval and the length of all routes the vehicle between the POIs."
   ]
  },
  {
   "cell_type": "code",
   "execution_count": 20,
   "metadata": {},
   "outputs": [],
   "source": [
    "def evaluate_cost(G, delivery_destinations, transportation_hub):\n",
    "    # accumulative cost of all the moves that would be returned\n",
    "    cost = 0\n",
    "    # the starting of the clock\n",
    "    time = 0\n",
    "    schedule = list()\n",
    "    \n",
    "    # we will begine the schedule by visiting the transportation hub\n",
    "    schedule.append((transportation_hub['POI'], time))\n",
    "    # -1 * negative demand of transportation hub so the capacity increase\n",
    "    current_capacity = -1 * transportation_hub['demand']  \n",
    "    \n",
    "    # we will assume at first that the vehicle don't need to go back \n",
    "    # to the transportation hub and we will add more as needed while\n",
    "    # the algorithm is running based on the demand of next stopping point\n",
    "    complete_tour = [transportation_hub] + delivery_destinations + [transportation_hub]\n",
    "    \n",
    "    i = 0\n",
    "    j = 1\n",
    "    while j < len(complete_tour):\n",
    "        start_subroute = complete_tour[i]\n",
    "        end_subroute = complete_tour[j]\n",
    "        \n",
    "        # check if the demand of the next goal\n",
    "        # could be fulfilled, if not add transportation\n",
    "        # hub node in the tour and repeat the iteration\n",
    "        if end_subroute['demand'] > current_capacity:\n",
    "            complete_tour = complete_tour[:j] + [transportation_hub] + complete_tour[j:]\n",
    "            continue\n",
    "            \n",
    "        # if we are going to deliver goods to destination point\n",
    "        # deduct its demand from vehicle capacity, but if we \n",
    "        # are going to visit transportation hub the capacity will\n",
    "        # increase\n",
    "        current_capacity -= end_subroute['demand']\n",
    "        \n",
    "        # retrieve the time interval\n",
    "        time_of_arrival = end_subroute['time_interval']\n",
    "        \n",
    "        # calculate the current time of arrival to the destination\n",
    "        time += G[start_subroute['POI']][end_subroute['POI']]['route']['duration']\n",
    "        \n",
    "        # If the time is not within the interval we penalize that \n",
    "        # The penalization function doesn't discern if you \n",
    "        # arrived before or after the interval\n",
    "        if int(time) not in range(*time_of_arrival):\n",
    "            cost += (time - min(time_of_arrival))**2\n",
    "        \n",
    "        # add the length of the route to the cost\n",
    "        cost += G[start_subroute['POI']][end_subroute['POI']]['route']['duration']\n",
    "        cost += G[start_subroute['POI']][end_subroute['POI']]['route']['length']\n",
    "        \n",
    "        # add the visited POI to the scedule and its time\n",
    "        schedule.append((end_subroute['POI'], time))\n",
    "        \n",
    "        # move to the next iteration\n",
    "        i += 1\n",
    "        j += 1   \n",
    "    return cost, schedule\n",
    "    "
   ]
  },
  {
   "cell_type": "code",
   "execution_count": 21,
   "metadata": {},
   "outputs": [],
   "source": [
    "# we will need an independent function to calculate the duration\n",
    "# of the whole schedule so a give solution cost value would make\n",
    "# sense for us\n",
    "def calculate_duration(G, schedule):\n",
    "    # remember that the schedule is\n",
    "    # a list of tuples (POI, time) so we need\n",
    "    # to fix that first\n",
    "    POIs = [pair[0] for pair in schedule]\n",
    "    cost = 0\n",
    "    for u, v in zip(POIs, POIs[1:]):\n",
    "        cost += G[u][v]['route']['duration']\n",
    "    return cost"
   ]
  },
  {
   "cell_type": "markdown",
   "metadata": {},
   "source": [
    "We will be be solving the problem using simulated annealing so you start with a random solution and try to change it a little bit every iterations to find the best answer possible"
   ]
  },
  {
   "cell_type": "code",
   "execution_count": 22,
   "metadata": {},
   "outputs": [],
   "source": [
    "# temperature scheduling function\n",
    "schedule = exp_schedule(200, 0.05, 10000)"
   ]
  },
  {
   "cell_type": "code",
   "execution_count": 23,
   "metadata": {},
   "outputs": [
    {
     "name": "stderr",
     "output_type": "stream",
     "text": [
      "  0%|          | 199/9223372036854775807 [00:00<1819522918900:48:19, 1408.09it/s]"
     ]
    },
    {
     "name": "stdout",
     "output_type": "stream",
     "text": [
      "CPU times: user 144 ms, sys: 2.75 ms, total: 146 ms\n",
      "Wall time: 146 ms\n"
     ]
    },
    {
     "name": "stderr",
     "output_type": "stream",
     "text": [
      "\n"
     ]
    }
   ],
   "source": [
    "%%time\n",
    "current = delivery_destinations[:]\n",
    "\n",
    "states = []\n",
    "# shuffle the first list\n",
    "# to get our random solution\n",
    "shuffle(current)\n",
    "\n",
    "for t in tqdm(range(sys.maxsize)):\n",
    "    T = schedule(t)\n",
    "    \n",
    "    if T < 0.01:\n",
    "        # when we arrive at the solution we only need to see the schedule\n",
    "        # the cost of the schedule is a little bit irrelevant outside the\n",
    "        # function\n",
    "        _, solution = evaluate_cost(G, current, transportation_hub)\n",
    "        break\n",
    "    \n",
    "    # generate 5 more random permutations\n",
    "    # by swapping two children\n",
    "    neighbors = list()\n",
    "    for _ in range(5):\n",
    "        child = current[:]\n",
    "        i = randint(0, len(child)-1)\n",
    "        j = randint(0, len(child)-1)\n",
    "        child[i], child[j] = child[j], child[i]\n",
    "        neighbors.append(child)\n",
    "        \n",
    "    next_choice = random.choice(neighbors)\n",
    "    \n",
    "    delta_e = evaluate_cost(G, next_choice, transportation_hub)[0] - evaluate_cost(G, current, transportation_hub)[0]  \n",
    "    if delta_e < 0 or probability(np.exp(-1 * delta_e/T)):\n",
    "        current = next_choice\n",
    "    \n",
    "    # would be used to visualize the convergence of the algorithm\n",
    "    _, solution = evaluate_cost(G, current, transportation_hub)\n",
    "    states.append(calculate_duration(G, solution))"
   ]
  },
  {
   "cell_type": "code",
   "execution_count": 24,
   "metadata": {},
   "outputs": [
    {
     "data": {
      "image/png": "[encoded data removed]",
      "text/plain": [
       "<Figure size 432x288 with 1 Axes>"
      ]
     },
     "metadata": {
      "needs_background": "light"
     },
     "output_type": "display_data"
    }
   ],
   "source": [
    "# the solution converged after 100 iterations\n",
    "import matplotlib.pyplot as plt\n",
    "plt.xlabel(\"# iterations\")\n",
    "plt.ylabel(\"cost (seconds)\")\n",
    "plt.plot(states)\n",
    "plt.show()"
   ]
  },
  {
   "cell_type": "markdown",
   "metadata": {},
   "source": [
    "The schedule"
   ]
  },
  {
   "cell_type": "code",
   "execution_count": 25,
   "metadata": {},
   "outputs": [
    {
     "data": {
      "text/plain": [
       "[(Name: King Station ID: 697805124, 0),\n",
       " (Name: Hospital for Sick Children ID: 712078929, 247),\n",
       " (Name: Centre for Addiction and Mental Health (CAMH) Nicotine Dependence Clinic ID: 328900136,\n",
       "  405.1),\n",
       " (Name: Princess Margaret Hospital ID: 712078932, 503.5),\n",
       " (Name: King Station ID: 697805124, 755.6),\n",
       " (Name: Salvation Army Toronto Grace Health Centre ID: 712086304, 1085.2),\n",
       " (Name: King Station ID: 697805124, 1399.9),\n",
       " (Name: Michael Garron Hospital ID: 447744987, 2192.5),\n",
       " (Name: Holland Bloorview Kids Rehabilitation Hospital ID: 684431222, 2895.7),\n",
       " (Name: King Station ID: 697805124, 3866.2999999999997),\n",
       " (Name: Toronto Western Hospital ID: 43805626, 4274.9),\n",
       " (Name: Hillcrest Reactivation Centre ID: 7371596851, 4585.0),\n",
       " (Name: King Station ID: 697805124, 5217.0),\n",
       " (Name: Runnymede Healthcare Centre ID: 486817681, 6171.9),\n",
       " (Name: North York General Hospital ID: 684426043, 7581.299999999999),\n",
       " (Name: King Station ID: 697805124, 8780.5),\n",
       " (Name: Scarborough Health Network - Birchmount Hospital ID: 681295730,\n",
       "  10222.0),\n",
       " (Name: King Station ID: 697805124, 11712.6)]"
      ]
     },
     "execution_count": 25,
     "metadata": {},
     "output_type": "execute_result"
    }
   ],
   "source": [
    "solution"
   ]
  },
  {
   "cell_type": "markdown",
   "metadata": {},
   "source": [
    "As you can see we start and finished at King station and hit all the delivery destinations once with occusional returns to the station to get more goods and supplies.\n",
    "\n",
    "---\n",
    "\n",
    "Let's visualize the first sub-routes in the schedule"
   ]
  },
  {
   "cell_type": "code",
   "execution_count": 26,
   "metadata": {},
   "outputs": [
    {
     "data": {
      "text/plain": [
       "[Name: King Station ID: 697805124,\n",
       " Name: Hospital for Sick Children ID: 712078929,\n",
       " Name: Centre for Addiction and Mental Health (CAMH) Nicotine Dependence Clinic ID: 328900136,\n",
       " Name: Princess Margaret Hospital ID: 712078932,\n",
       " Name: King Station ID: 697805124,\n",
       " Name: Salvation Army Toronto Grace Health Centre ID: 712086304,\n",
       " Name: King Station ID: 697805124,\n",
       " Name: Michael Garron Hospital ID: 447744987,\n",
       " Name: Holland Bloorview Kids Rehabilitation Hospital ID: 684431222,\n",
       " Name: King Station ID: 697805124,\n",
       " Name: Toronto Western Hospital ID: 43805626,\n",
       " Name: Hillcrest Reactivation Centre ID: 7371596851,\n",
       " Name: King Station ID: 697805124,\n",
       " Name: Runnymede Healthcare Centre ID: 486817681,\n",
       " Name: North York General Hospital ID: 684426043,\n",
       " Name: King Station ID: 697805124,\n",
       " Name: Scarborough Health Network - Birchmount Hospital ID: 681295730,\n",
       " Name: King Station ID: 697805124]"
      ]
     },
     "execution_count": 26,
     "metadata": {},
     "output_type": "execute_result"
    }
   ],
   "source": [
    "POIs = [pair[0] for pair in solution]\n",
    "POIs"
   ]
  },
  {
   "cell_type": "code",
   "execution_count": 46,
   "metadata": {},
   "outputs": [
    {
     "data": {
      "application/vnd.jupyter.widget-view+json": {
       "model_id": "249d768e5d6b40d5941e9e23800ade53",
       "version_major": 2,
       "version_minor": 0
      },
      "text/plain": [
       "Map(center=[43.654823, -79.37644], controls=(ZoomControl(options=['position', 'zoom_in_text', 'zoom_in_title',…"
      ]
     },
     "metadata": {},
     "output_type": "display_data"
    }
   ],
   "source": [
    "tem1 = G[POIs[4]][POIs[5]]['route']['coords']\n",
    "drawRoute(tem1)"
   ]
  },
  {
   "cell_type": "code",
   "execution_count": 47,
   "metadata": {},
   "outputs": [
    {
     "data": {
      "application/vnd.jupyter.widget-view+json": {
       "model_id": "b4e7d69ac7304c86b7746d55ef39c73e",
       "version_major": 2,
       "version_minor": 0
      },
      "text/plain": [
       "Map(center=[43.659199, -79.393501], controls=(ZoomControl(options=['position', 'zoom_in_text', 'zoom_in_title'…"
      ]
     },
     "metadata": {},
     "output_type": "display_data"
    }
   ],
   "source": [
    "first_route = G[POIs[1]][POIs[2]]['route']['coords']\n",
    "drawRoute(first_route)"
   ]
  },
  {
   "cell_type": "code",
   "execution_count": 48,
   "metadata": {},
   "outputs": [
    {
     "data": {
      "application/vnd.jupyter.widget-view+json": {
       "model_id": "300d2e641fa44c5c80e41546a37fdbda",
       "version_major": 2,
       "version_minor": 0
      },
      "text/plain": [
       "Map(center=[43.658083, -79.386884], controls=(ZoomControl(options=['position', 'zoom_in_text', 'zoom_in_title'…"
      ]
     },
     "metadata": {},
     "output_type": "display_data"
    }
   ],
   "source": [
    "second_route = G[POIs[4]][POIs[5]]['route']['coords']\n",
    "second_route += G[POIs[1]][POIs[2]]['route']['coords']\n",
    "drawRoute(second_route)"
   ]
  },
  {
   "cell_type": "code",
   "execution_count": 35,
   "metadata": {},
   "outputs": [
    {
     "ename": "TypeError",
     "evalue": "'poi' object is not callable",
     "output_type": "error",
     "traceback": [
      "\u001b[0;31m---------------------------------------------------------------------------\u001b[0m",
      "\u001b[0;31mTypeError\u001b[0m                                 Traceback (most recent call last)",
      "\u001b[0;32m<ipython-input-35-8dcd85a47a1e>\u001b[0m in \u001b[0;36m<module>\u001b[0;34m\u001b[0m\n\u001b[0;32m----> 1\u001b[0;31m \u001b[0msource\u001b[0m\u001b[0;34m(\u001b[0m\u001b[0mdrawRoute\u001b[0m\u001b[0;34m)\u001b[0m\u001b[0;34m\u001b[0m\u001b[0;34m\u001b[0m\u001b[0m\n\u001b[0m",
      "\u001b[0;31mTypeError\u001b[0m: 'poi' object is not callable"
     ]
    }
   ],
   "source": [
    "source(drawRoute)"
   ]
  },
  {
   "cell_type": "code",
   "execution_count": 31,
   "metadata": {},
   "outputs": [],
   "source": [
    "third_route = G[POIs[2]][POIs[3]]['route']['coords']"
   ]
  },
  {
   "cell_type": "code",
   "execution_count": 32,
   "metadata": {},
   "outputs": [
    {
     "data": {
      "application/vnd.jupyter.widget-view+json": {
       "model_id": "e85575da4ae1458d99ed1e82ef9acc0f",
       "version_major": 2,
       "version_minor": 0
      },
      "text/plain": [
       "Map(center=[43.659199, -79.393501], controls=(ZoomControl(options=['position', 'zoom_in_text', 'zoom_in_title'…"
      ]
     },
     "metadata": {},
     "output_type": "display_data"
    }
   ],
   "source": [
    "drawRoute(third_route)"
   ]
  },
  {
   "cell_type": "code",
   "execution_count": 33,
   "metadata": {},
   "outputs": [],
   "source": [
    "fourth_route = G[POIs[3]][POIs[4]]['route']['coords']"
   ]
  },
  {
   "cell_type": "code",
   "execution_count": 34,
   "metadata": {},
   "outputs": [
    {
     "data": {
      "application/vnd.jupyter.widget-view+json": {
       "model_id": "c23331db50dd4ecd8caf900049c502b3",
       "version_major": 2,
       "version_minor": 0
      },
      "text/plain": [
       "Map(center=[43.647664, -79.384814], controls=(ZoomControl(options=['position', 'zoom_in_text', 'zoom_in_title'…"
      ]
     },
     "metadata": {},
     "output_type": "display_data"
    }
   ],
   "source": [
    "drawRoute(fourth_route)"
   ]
  },
  {
   "cell_type": "markdown",
   "metadata": {},
   "source": [
    "## Dealing with multiple transportation hubs"
   ]
  },
  {
   "cell_type": "markdown",
   "metadata": {},
   "source": [
    "As you probably see, the last mile delivery problem with a single transportation hub and arbitrary number of delivery destinations is trivial and its running time for generating new solutions and getting their cost was rather fast because all you have to do is just manipulating a single array of objects.\n",
    "\n",
    "But handling multiple transportation hubs is completely different beast. The problem could be solved by reducing the problem to a network flow problem, where we would have bipartite graph with two different vertex sets: the first one is the set containing all the delivery destinations and the other set containing all transportation hubs. Your problem is to find the maximum flow and maximum matching between the tranportation hub vertices and delivery destinations vertices and you can add the constraints like time windows and capacity of the vehicles as extra layer of vertices between the layer of transportation hubs and the layer of vertices of delivery destinations.\n",
    "\n",
    "Solving your problem as flow problem will give you the **exact** solution for the scheduling and you don't need to resort for approximations most of the time. Linear programming is used to solve these kind of problems, but you need to be aware that linear programming solutions sometimes under some conditions can degenerate to exponential and intractable problems, in that case we resort to approximation search algorithms like SA and genetic algorithm."
   ]
  }
 ],
 "metadata": {
  "kernelspec": {
   "display_name": "Python 3",
   "language": "python",
   "name": "python3"
  },
  "language_info": {
   "codemirror_mode": {
    "name": "ipython",
    "version": 3
   },
   "file_extension": ".py",
   "mimetype": "text/x-python",
   "name": "python",
   "nbconvert_exporter": "python",
   "pygments_lexer": "ipython3",
   "version": "3.6.9"
  }
 },
 "nbformat": 4,
 "nbformat_minor": 4
}
